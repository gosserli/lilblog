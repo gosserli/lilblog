{
 "cells": [
  {
   "cell_type": "code",
   "execution_count": 3,
   "metadata": {},
   "outputs": [
    {
     "ename": "SyntaxError",
     "evalue": "invalid syntax (<ipython-input-3-dc907354cdc5>, line 1)",
     "output_type": "error",
     "traceback": [
      "\u001b[0;36m  File \u001b[0;32m\"<ipython-input-3-dc907354cdc5>\"\u001b[0;36m, line \u001b[0;32m1\u001b[0m\n\u001b[0;31m    git clone\u001b[0m\n\u001b[0m            ^\u001b[0m\n\u001b[0;31mSyntaxError\u001b[0m\u001b[0;31m:\u001b[0m invalid syntax\n"
     ]
    }
   ],
   "source": [
    "git clone \n",
    "https://github.com/gosserli/lilblog.git"
   ]
  },
  {
   "cell_type": "code",
   "execution_count": 4,
   "metadata": {},
   "outputs": [
    {
     "ename": "SyntaxError",
     "evalue": "invalid syntax (<ipython-input-4-2cf4099a2afb>, line 1)",
     "output_type": "error",
     "traceback": [
      "\u001b[0;36m  File \u001b[0;32m\"<ipython-input-4-2cf4099a2afb>\"\u001b[0;36m, line \u001b[0;32m1\u001b[0m\n\u001b[0;31m    conda create -n blog python==3.5\u001b[0m\n\u001b[0m               ^\u001b[0m\n\u001b[0;31mSyntaxError\u001b[0m\u001b[0;31m:\u001b[0m invalid syntax\n"
     ]
    }
   ],
   "source": [
    "conda create -n blog python==3.5\n",
    "source activate blog"
   ]
  },
  {
   "cell_type": "code",
   "execution_count": 7,
   "metadata": {},
   "outputs": [
    {
     "name": "stdout",
     "output_type": "stream",
     "text": [
      "Requirement already satisfied: pelican in /anaconda3/lib/python3.7/site-packages (4.0.1)\n",
      "Requirement already satisfied: docutils in /anaconda3/lib/python3.7/site-packages (from pelican) (0.14)\n",
      "Requirement already satisfied: pygments in /anaconda3/lib/python3.7/site-packages (from pelican) (2.3.1)\n",
      "Requirement already satisfied: blinker in /anaconda3/lib/python3.7/site-packages (from pelican) (1.4)\n",
      "Requirement already satisfied: feedgenerator>=1.9 in /anaconda3/lib/python3.7/site-packages (from pelican) (1.9)\n",
      "Requirement already satisfied: jinja2>=2.7 in /anaconda3/lib/python3.7/site-packages (from pelican) (2.10)\n",
      "Requirement already satisfied: pytz>=0a in /anaconda3/lib/python3.7/site-packages (from pelican) (2018.9)\n",
      "Requirement already satisfied: python-dateutil in /anaconda3/lib/python3.7/site-packages (from pelican) (2.8.0)\n",
      "Requirement already satisfied: six>=1.4 in /anaconda3/lib/python3.7/site-packages (from pelican) (1.12.0)\n",
      "Requirement already satisfied: unidecode in /anaconda3/lib/python3.7/site-packages (from pelican) (1.0.23)\n",
      "Requirement already satisfied: MarkupSafe>=0.23 in /anaconda3/lib/python3.7/site-packages (from jinja2>=2.7->pelican) (1.1.1)\n"
     ]
    }
   ],
   "source": [
    "!pip install pelican"
   ]
  },
  {
   "cell_type": "code",
   "execution_count": 6,
   "metadata": {},
   "outputs": [
    {
     "ename": "NameError",
     "evalue": "name 'pelican' is not defined",
     "output_type": "error",
     "traceback": [
      "\u001b[0;31m---------------------------------------------------------------------------\u001b[0m",
      "\u001b[0;31mNameError\u001b[0m                                 Traceback (most recent call last)",
      "\u001b[0;32m<ipython-input-6-dcd90623facc>\u001b[0m in \u001b[0;36m<module>\u001b[0;34m\u001b[0m\n\u001b[0;32m----> 1\u001b[0;31m \u001b[0mpelican\u001b[0m\u001b[0;34m-\u001b[0m\u001b[0mquickstart\u001b[0m\u001b[0;34m\u001b[0m\u001b[0;34m\u001b[0m\u001b[0m\n\u001b[0m",
      "\u001b[0;31mNameError\u001b[0m: name 'pelican' is not defined"
     ]
    }
   ],
   "source": [
    "pelican-quickstart"
   ]
  },
  {
   "cell_type": "code",
   "execution_count": null,
   "metadata": {},
   "outputs": [],
   "source": []
  }
 ],
 "metadata": {
  "kernelspec": {
   "display_name": "Python 3",
   "language": "python",
   "name": "python3"
  },
  "language_info": {
   "codemirror_mode": {
    "name": "ipython",
    "version": 3
   },
   "file_extension": ".py",
   "mimetype": "text/x-python",
   "name": "python",
   "nbconvert_exporter": "python",
   "pygments_lexer": "ipython3",
   "version": "3.7.3"
  }
 },
 "nbformat": 4,
 "nbformat_minor": 2
}
